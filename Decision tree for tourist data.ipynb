{
 "cells": [
  {
   "cell_type": "code",
   "execution_count": 60,
   "metadata": {},
   "outputs": [
    {
     "data": {
      "text/plain": [
       "True"
      ]
     },
     "execution_count": 60,
     "metadata": {},
     "output_type": "execute_result"
    }
   ],
   "source": [
    "import pydotplus\n",
    "import pandas as pd\n",
    "import numpy as np\n",
    "data1=pd.read_csv(\"Foreign tourist inflow 2001-14.csv\")\n",
    "data2=data1[data1.columns[4:15]]\n",
    "data2.head()\n",
    "#has to be imported if not already installed in conda\n",
    "from sklearn.tree import DecisionTreeClassifier\n",
    "#for exporting to a pdf\n",
    "from sklearn.tree import export_graphviz\n",
    "from sklearn.model_selection import train_test_split \n",
    "x_train,x_test,y_train,y_test=train_test_split(data2.iloc[1:5],data2.iloc[6:10],random_state=1)\n",
    "clf=DecisionTreeClassifier()\n",
    "clf.fit(x_train,y_train)\n",
    "#This is not saved to any external file it is supposed to return data accordingly\n",
    "#Gives a file in .dat format that is exported to pdf accordingly\n",
    "dot_data=export_graphviz(clf,out_file=None)\n",
    "graph=pydotplus.graph_from_dot_data(dot_data)\n",
    "#The graph saved to a file named iris.pdf\n",
    "graph.write_pdf(\"final2.pdf\")\n",
    "#returns a graph object"
   ]
  },
  {
   "cell_type": "code",
   "execution_count": null,
   "metadata": {
    "collapsed": true
   },
   "outputs": [],
   "source": []
  },
  {
   "cell_type": "code",
   "execution_count": null,
   "metadata": {
    "collapsed": true
   },
   "outputs": [],
   "source": []
  }
 ],
 "metadata": {
  "kernelspec": {
   "display_name": "Python 3",
   "language": "python",
   "name": "python3"
  },
  "language_info": {
   "codemirror_mode": {
    "name": "ipython",
    "version": 3
   },
   "file_extension": ".py",
   "mimetype": "text/x-python",
   "name": "python",
   "nbconvert_exporter": "python",
   "pygments_lexer": "ipython3",
   "version": "3.6.1"
  }
 },
 "nbformat": 4,
 "nbformat_minor": 2
}
